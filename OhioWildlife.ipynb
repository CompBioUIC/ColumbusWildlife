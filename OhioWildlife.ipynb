{
 "cells": [
  {
   "cell_type": "markdown",
   "metadata": {},
   "source": [
    "## Installation Requirements and Module Configuration"
   ]
  },
  {
   "cell_type": "markdown",
   "metadata": {},
   "source": [
    "If you would like to run in your own environment, the following dependencies are required"
   ]
  },
  {
   "cell_type": "code",
   "execution_count": 1,
   "metadata": {},
   "outputs": [],
   "source": [
    "##Add dependencies here\n",
    "# !pip install azure-storage-blob"
   ]
  },
  {
   "cell_type": "code",
   "execution_count": 28,
   "metadata": {},
   "outputs": [
    {
     "name": "stdout",
     "output_type": "stream",
     "text": [
      "The autoreload extension is already loaded. To reload it, use:\n",
      "  %reload_ext autoreload\n"
     ]
    }
   ],
   "source": [
    "#to reflect changes made in modules - for assembling the notebooks before the workshop - remove when in use\n",
    "%load_ext autoreload\n",
    "%autoreload 2"
   ]
  },
  {
   "cell_type": "code",
   "execution_count": 114,
   "metadata": {},
   "outputs": [],
   "source": [
    "##imports\n",
    "import os, sys\n",
    "sys.path.append(os.path.join(sys.path[0], '../'))\n",
    "\n",
    "from columbus_wildlife_workshop import Flickr\n",
    "fr = Flickr() \n",
    "\n",
    "from image_data import Save\n",
    "s = Save()"
   ]
  },
  {
   "cell_type": "markdown",
   "metadata": {},
   "source": [
    "## Query Terms"
   ]
  },
  {
   "cell_type": "code",
   "execution_count": 115,
   "metadata": {},
   "outputs": [],
   "source": [
    "term = 'Columbus AND Ohio AND wildlife AND NOT zoo AND NOT domestic'"
   ]
  },
  {
   "cell_type": "markdown",
   "metadata": {},
   "source": [
    "## Flickr API"
   ]
  },
  {
   "cell_type": "markdown",
   "metadata": {},
   "source": [
    "Connect to Flickr photos search api \n",
    "API will retrieve results for term selected and download them to a zip file specified"
   ]
  },
  {
   "cell_type": "code",
   "execution_count": 116,
   "metadata": {},
   "outputs": [
    {
     "name": "stdout",
     "output_type": "stream",
     "text": [
      "Hello!!\n",
      "<Response [200]>\n",
      "12 Found with Columbus+AND+Ohio+AND+wildlife+AND+NOT+zoo+AND+NOT+domestic\n",
      "Done Retrieving Flickr Results\n"
     ]
    }
   ],
   "source": [
    "json_res = fr.search(term, saveTo=True)"
   ]
  },
  {
   "cell_type": "code",
   "execution_count": 126,
   "metadata": {},
   "outputs": [
    {
     "data": {
      "text/plain": [
       "97"
      ]
     },
     "execution_count": 126,
     "metadata": {},
     "output_type": "execute_result"
    }
   ],
   "source": [
    "len(json_res[0])"
   ]
  },
  {
   "cell_type": "markdown",
   "metadata": {},
   "source": [
    "## Download Images to A Folder\n",
    "In the same directory this notebook is in, create a folder \"images\".\n",
    "This folder will contain all jpg images from the Flickr API query"
   ]
  },
  {
   "cell_type": "code",
   "execution_count": 8,
   "metadata": {},
   "outputs": [],
   "source": [
    "## For Megadetector images\n",
    "# file_path = \"images/\"\n",
    "# list_images = s.download_images(file_path, json_res)"
   ]
  },
  {
   "cell_type": "markdown",
   "metadata": {},
   "source": [
    "Save images to a folder specied. As we save images, we build a list of dictionaries representing the images.\n",
    "\n",
    "For each image, we construct a dictionary with:\n",
    "   - url: img url from flickr\n",
    "   - name: name of image\n",
    "   - data: bytearray representation of img "
   ]
  },
  {
   "cell_type": "code",
   "execution_count": 149,
   "metadata": {},
   "outputs": [
    {
     "name": "stdout",
     "output_type": "stream",
     "text": [
      "https://live.staticflickr.com/65535/50567923271_926d37d247_b.jpg\n"
     ]
    }
   ],
   "source": [
    "# Test out with a small portion of images\n",
    "subset = json_res[0][0:6]\n",
    "print(subset[0]['url_l'])"
   ]
  },
  {
   "cell_type": "code",
   "execution_count": 150,
   "metadata": {},
   "outputs": [
    {
     "name": "stdout",
     "output_type": "stream",
     "text": [
      "done downloading images!\n"
     ]
    }
   ],
   "source": [
    "# For Species Classfier Images \n",
    "file_path = 'subset_classifier_images/'#\"classifier_images/\"\n",
    "list_images = s.download_images(file_path, subset)"
   ]
  },
  {
   "cell_type": "code",
   "execution_count": 152,
   "metadata": {},
   "outputs": [
    {
     "data": {
      "text/plain": [
       "6"
      ]
     },
     "execution_count": 152,
     "metadata": {},
     "output_type": "execute_result"
    }
   ],
   "source": [
    "len(list_images)"
   ]
  },
  {
   "cell_type": "markdown",
   "metadata": {},
   "source": [
    "## Species Classfication"
   ]
  },
  {
   "cell_type": "markdown",
   "metadata": {},
   "source": [
    "Connect to Microsoft Azure SpeciesClassification API to generate predictions on species in frame using the photos collected from the Flickr API"
   ]
  },
  {
   "cell_type": "code",
   "execution_count": null,
   "metadata": {},
   "outputs": [],
   "source": [
    "## FIXME: will we have a general API key for all users to use\n",
    "## or will every individual have to make their own request"
   ]
  },
  {
   "cell_type": "code",
   "execution_count": 192,
   "metadata": {},
   "outputs": [
    {
     "name": "stdout",
     "output_type": "stream",
     "text": [
      "<class 'list'>\n"
     ]
    }
   ],
   "source": [
    "# get list of image dicts\n",
    "# FIXME: try and save this img_data to a json file so we dont\n",
    "# have to reload each time\n",
    "image_data = list_images\n",
    "print(type(image_data))"
   ]
  },
  {
   "cell_type": "code",
   "execution_count": 177,
   "metadata": {},
   "outputs": [],
   "source": [
    "img = img_data[0]['url']"
   ]
  },
  {
   "cell_type": "code",
   "execution_count": 183,
   "metadata": {},
   "outputs": [],
   "source": [
    "from columbus_wildlife_workshop import SpeciesClassifier"
   ]
  },
  {
   "cell_type": "code",
   "execution_count": 193,
   "metadata": {},
   "outputs": [
    {
     "name": "stdout",
     "output_type": "stream",
     "text": [
      "Running API...\n",
      "...done\n"
     ]
    },
    {
     "data": {
      "text/html": [
       "<style>div.output_subarea{overflow-x:hidden !important}.container{margin:0 auto}.single_image{width:50%} </style><div class='container'><div class='image_container'><img class='single_image' src='https://live.staticflickr.com/65535/50567923271_926d37d247_b.jpg'/></div></div>"
      ],
      "text/plain": [
       "<IPython.core.display.HTML object>"
      ]
     },
     "metadata": {},
     "output_type": "display_data"
    },
    {
     "name": "stdout",
     "output_type": "stream",
     "text": [
      "result:  ({'predictions': [{'class': 'Aves', 'class_common': 'Birds', 'confidence': 48.289334774017334, 'family': 'Alcedinidae', 'family_common': 'Kingfishers', 'genus': 'Megaceryle', 'genus_common': '', 'kingdom': 'Animalia', 'kingdom_common': 'Animals', 'order': 'Coraciiformes', 'order_common': 'Kingfishers and Allies', 'phylum': 'Chordata', 'phylum_common': 'Chordates', 'species': 'Megaceryle alcyon', 'species_common': 'Belted Kingfisher', 'subphylum': 'Vertebrata', 'subphylum_common': 'Vertebrates'}, {'class': 'Aves', 'class_common': 'Birds', 'confidence': 23.83272796869278, 'family': 'Alcedinidae', 'family_common': 'Kingfishers', 'genus': 'Chloroceryle', 'genus_common': 'American Green Kingfishers', 'kingdom': 'Animalia', 'kingdom_common': 'Animals', 'order': 'Coraciiformes', 'order_common': 'Kingfishers and Allies', 'phylum': 'Chordata', 'phylum_common': 'Chordates', 'species': 'Chloroceryle amazona', 'species_common': 'Amazon Kingfisher', 'subphylum': 'Vertebrata', 'subphylum_common': 'Vertebrates'}, {'class': 'Aves', 'class_common': 'Birds', 'confidence': 15.387740731239319, 'family': 'Alcedinidae', 'family_common': 'Kingfishers', 'genus': 'Megaceryle', 'genus_common': '', 'kingdom': 'Animalia', 'kingdom_common': 'Animals', 'order': 'Coraciiformes', 'order_common': 'Kingfishers and Allies', 'phylum': 'Chordata', 'phylum_common': 'Chordates', 'species': 'Megaceryle torquata', 'species_common': 'Ringed Kingfisher', 'subphylum': 'Vertebrata', 'subphylum_common': 'Vertebrates'}, {'class': 'Aves', 'class_common': 'Birds', 'confidence': 1.7697395756840706, 'family': 'Alcedinidae', 'family_common': 'Kingfishers', 'genus': 'Chloroceryle', 'genus_common': 'American Green Kingfishers', 'kingdom': 'Animalia', 'kingdom_common': 'Animals', 'order': 'Coraciiformes', 'order_common': 'Kingfishers and Allies', 'phylum': 'Chordata', 'phylum_common': 'Chordates', 'species': 'Chloroceryle aenea', 'species_common': 'American Pygmy Kingfisher', 'subphylum': 'Vertebrata', 'subphylum_common': 'Vertebrates'}, {'class': 'Aves', 'class_common': 'Birds', 'confidence': 1.2283433228731155, 'family': 'Alcedinidae', 'family_common': 'Kingfishers', 'genus': 'Chloroceryle', 'genus_common': 'American Green Kingfishers', 'kingdom': 'Animalia', 'kingdom_common': 'Animals', 'order': 'Coraciiformes', 'order_common': 'Kingfishers and Allies', 'phylum': 'Chordata', 'phylum_common': 'Chordates', 'species': 'Chloroceryle americana', 'species_common': 'Green Kingfisher', 'subphylum': 'Vertebrata', 'subphylum_common': 'Vertebrates'}]}, False)\n"
     ]
    },
    {
     "data": {
      "text/html": [
       "<style>.progress-container {margin:0 auto; min-height: 25px;margin:0;width:100%; margin-top:10px}.progress-bar{background-color:#ffc107; padding:3px}.progress-text{color:black; margin-top:5px;} .species .species-common { color:black !important; font-family:'Helvetica Neue',Helvetica,Arial,sans-serif; font-size:14px;line-height:20px;}</style><a style='color:black;' class='species' href='https://bing.com/images/search?q=Megaceryle alcyon' target='_blank'>Megaceryle alcyon</a><span class='species-common'>  ( Belted Kingfisher ) </span><div class='progress progress-container'><div class='progress-bar' style='width:48.29%' ><span class='progress-text'>48.29%</span></div></div>"
      ],
      "text/plain": [
       "<IPython.core.display.HTML object>"
      ]
     },
     "metadata": {},
     "output_type": "display_data"
    },
    {
     "data": {
      "text/html": [
       "<a style='color:black;' class='species' href='https://bing.com/images/search?q=Chloroceryle amazona' target='_blank'>Chloroceryle amazona</a><span class='species-common'>  ( Amazon Kingfisher ) </span><div class='progress progress-container'><div class='progress-bar' style='width:23.83%' ><span class='progress-text'>23.83%</span></div></div>"
      ],
      "text/plain": [
       "<IPython.core.display.HTML object>"
      ]
     },
     "metadata": {},
     "output_type": "display_data"
    },
    {
     "data": {
      "text/html": [
       "<a style='color:black;' class='species' href='https://bing.com/images/search?q=Megaceryle torquata' target='_blank'>Megaceryle torquata</a><span class='species-common'>  ( Ringed Kingfisher ) </span><div class='progress progress-container'><div class='progress-bar' style='width:15.39%' ><span class='progress-text'>15.39%</span></div></div>"
      ],
      "text/plain": [
       "<IPython.core.display.HTML object>"
      ]
     },
     "metadata": {},
     "output_type": "display_data"
    },
    {
     "data": {
      "text/html": [
       "<a style='color:black;' class='species' href='https://bing.com/images/search?q=Chloroceryle aenea' target='_blank'>Chloroceryle aenea</a><span class='species-common'>  ( American Pygmy Kingfisher ) </span><div class='progress progress-container'><div class='progress-bar' style='width:1.77%' ><span class='progress-text'>1.77%</span></div></div>"
      ],
      "text/plain": [
       "<IPython.core.display.HTML object>"
      ]
     },
     "metadata": {},
     "output_type": "display_data"
    },
    {
     "data": {
      "text/html": [
       "<a style='color:black;' class='species' href='https://bing.com/images/search?q=Chloroceryle americana' target='_blank'>Chloroceryle americana</a><span class='species-common'>  ( Green Kingfisher ) </span><div class='progress progress-container'><div class='progress-bar' style='width:1.23%' ><span class='progress-text'>1.23%</span></div></div>"
      ],
      "text/plain": [
       "<IPython.core.display.HTML object>"
      ]
     },
     "metadata": {},
     "output_type": "display_data"
    },
    {
     "name": "stdout",
     "output_type": "stream",
     "text": [
      "Running API...\n",
      "...done\n"
     ]
    },
    {
     "data": {
      "text/html": [
       "<style>div.output_subarea{overflow-x:hidden !important}.container{margin:0 auto}.single_image{width:50%} </style><div class='container'><div class='image_container'><img class='single_image' src='https://live.staticflickr.com/65535/50561598837_04ed2168d8_b.jpg'/></div></div>"
      ],
      "text/plain": [
       "<IPython.core.display.HTML object>"
      ]
     },
     "metadata": {},
     "output_type": "display_data"
    },
    {
     "name": "stdout",
     "output_type": "stream",
     "text": [
      "result:  ({'predictions': [{'class': 'Mammalia', 'class_common': 'Mammals', 'confidence': 11.987053602933884, 'family': 'Cervidae', 'family_common': 'Deer', 'genus': 'Odocoileus', 'genus_common': 'White tailed and Mule Deer', 'kingdom': 'Animalia', 'kingdom_common': 'Animals', 'order': 'Artiodactyla', 'order_common': 'Even toed Ungulates', 'phylum': 'Chordata', 'phylum_common': 'Chordates', 'species': 'Odocoileus virginianus', 'species_common': 'White tailed Deer', 'suborder': 'Ruminantia', 'suborder_common': 'Ruminants', 'subphylum': 'Vertebrata', 'subphylum_common': 'Vertebrates'}, {'class': 'Mammalia', 'class_common': 'Mammals', 'confidence': 10.599566996097565, 'family': 'Cervidae', 'family_common': 'Deer', 'genus': 'Odocoileus', 'genus_common': 'White tailed and Mule Deer', 'kingdom': 'Animalia', 'kingdom_common': 'Animals', 'order': 'Artiodactyla', 'order_common': 'Even toed Ungulates', 'phylum': 'Chordata', 'phylum_common': 'Chordates', 'species': 'Odocoileus virginianus clavium', 'species_common': 'Key Deer', 'suborder': 'Ruminantia', 'suborder_common': 'Ruminants', 'subphylum': 'Vertebrata', 'subphylum_common': 'Vertebrates'}, {'class': 'Mammalia', 'class_common': 'Mammals', 'confidence': 9.096885472536087, 'family': 'Cervidae', 'family_common': 'Deer', 'genus': 'Odocoileus', 'genus_common': 'White tailed and Mule Deer', 'kingdom': 'Animalia', 'kingdom_common': 'Animals', 'order': 'Artiodactyla', 'order_common': 'Even toed Ungulates', 'phylum': 'Chordata', 'phylum_common': 'Chordates', 'species': 'Odocoileus hemionus columbianus', 'species_common': 'Columbian Black tailed Deer', 'suborder': 'Ruminantia', 'suborder_common': 'Ruminants', 'subphylum': 'Vertebrata', 'subphylum_common': 'Vertebrates'}, {'class': 'Mammalia', 'class_common': 'Mammals', 'confidence': 8.383452147245407, 'family': 'Cervidae', 'family_common': 'Deer', 'genus': 'Cervus', 'genus_common': '', 'kingdom': 'Animalia', 'kingdom_common': 'Animals', 'order': 'Artiodactyla', 'order_common': 'Even toed Ungulates', 'phylum': 'Chordata', 'phylum_common': 'Chordates', 'species': 'Cervus elaphus', 'species_common': 'Red Deer', 'suborder': 'Ruminantia', 'suborder_common': 'Ruminants', 'subphylum': 'Vertebrata', 'subphylum_common': 'Vertebrates'}, {'class': 'Mammalia', 'class_common': 'Mammals', 'confidence': 5.6644342839717865, 'family': 'Cervidae', 'family_common': 'Deer', 'genus': 'Odocoileus', 'genus_common': 'White tailed and Mule Deer', 'kingdom': 'Animalia', 'kingdom_common': 'Animals', 'order': 'Artiodactyla', 'order_common': 'Even toed Ungulates', 'phylum': 'Chordata', 'phylum_common': 'Chordates', 'species': 'Odocoileus hemionus', 'species_common': 'Mule Deer', 'suborder': 'Ruminantia', 'suborder_common': 'Ruminants', 'subphylum': 'Vertebrata', 'subphylum_common': 'Vertebrates'}]}, False)\n"
     ]
    },
    {
     "data": {
      "text/html": [
       "<style>.progress-container {margin:0 auto; min-height: 25px;margin:0;width:100%; margin-top:10px}.progress-bar{background-color:#ffc107; padding:3px}.progress-text{color:black; margin-top:5px;} .species .species-common { color:black !important; font-family:'Helvetica Neue',Helvetica,Arial,sans-serif; font-size:14px;line-height:20px;}</style><a style='color:black;' class='species' href='https://bing.com/images/search?q=Odocoileus virginianus' target='_blank'>Odocoileus virginianus</a><span class='species-common'>  ( White tailed Deer ) </span><div class='progress progress-container'><div class='progress-bar' style='width:11.99%' ><span class='progress-text'>11.99%</span></div></div>"
      ],
      "text/plain": [
       "<IPython.core.display.HTML object>"
      ]
     },
     "metadata": {},
     "output_type": "display_data"
    },
    {
     "data": {
      "text/html": [
       "<a style='color:black;' class='species' href='https://bing.com/images/search?q=Odocoileus virginianus clavium' target='_blank'>Odocoileus virginianus clavium</a><span class='species-common'>  ( Key Deer ) </span><div class='progress progress-container'><div class='progress-bar' style='width:10.6%' ><span class='progress-text'>10.6%</span></div></div>"
      ],
      "text/plain": [
       "<IPython.core.display.HTML object>"
      ]
     },
     "metadata": {},
     "output_type": "display_data"
    },
    {
     "data": {
      "text/html": [
       "<a style='color:black;' class='species' href='https://bing.com/images/search?q=Odocoileus hemionus columbianus' target='_blank'>Odocoileus hemionus columbianus</a><span class='species-common'>  ( Columbian Black tailed Deer ) </span><div class='progress progress-container'><div class='progress-bar' style='width:9.1%' ><span class='progress-text'>9.1%</span></div></div>"
      ],
      "text/plain": [
       "<IPython.core.display.HTML object>"
      ]
     },
     "metadata": {},
     "output_type": "display_data"
    },
    {
     "data": {
      "text/html": [
       "<a style='color:black;' class='species' href='https://bing.com/images/search?q=Cervus elaphus' target='_blank'>Cervus elaphus</a><span class='species-common'>  ( Red Deer ) </span><div class='progress progress-container'><div class='progress-bar' style='width:8.38%' ><span class='progress-text'>8.38%</span></div></div>"
      ],
      "text/plain": [
       "<IPython.core.display.HTML object>"
      ]
     },
     "metadata": {},
     "output_type": "display_data"
    },
    {
     "data": {
      "text/html": [
       "<a style='color:black;' class='species' href='https://bing.com/images/search?q=Odocoileus hemionus' target='_blank'>Odocoileus hemionus</a><span class='species-common'>  ( Mule Deer ) </span><div class='progress progress-container'><div class='progress-bar' style='width:5.66%' ><span class='progress-text'>5.66%</span></div></div>"
      ],
      "text/plain": [
       "<IPython.core.display.HTML object>"
      ]
     },
     "metadata": {},
     "output_type": "display_data"
    },
    {
     "name": "stdout",
     "output_type": "stream",
     "text": [
      "Running API...\n",
      "...done\n"
     ]
    },
    {
     "data": {
      "text/html": [
       "<style>div.output_subarea{overflow-x:hidden !important}.container{margin:0 auto}.single_image{width:50%} </style><div class='container'><div class='image_container'><img class='single_image' src='https://live.staticflickr.com/65535/50561597437_b02dc4f1e4_b.jpg'/></div></div>"
      ],
      "text/plain": [
       "<IPython.core.display.HTML object>"
      ]
     },
     "metadata": {},
     "output_type": "display_data"
    },
    {
     "name": "stdout",
     "output_type": "stream",
     "text": [
      "result:  ({'predictions': [{'class': 'Mammalia', 'class_common': 'Mammals', 'confidence': 13.054774701595306, 'family': 'Cervidae', 'family_common': 'Deer', 'genus': 'Odocoileus', 'genus_common': 'White tailed and Mule Deer', 'kingdom': 'Animalia', 'kingdom_common': 'Animals', 'order': 'Artiodactyla', 'order_common': 'Even toed Ungulates', 'phylum': 'Chordata', 'phylum_common': 'Chordates', 'species': 'Odocoileus hemionus columbianus', 'species_common': 'Columbian Black tailed Deer', 'suborder': 'Ruminantia', 'suborder_common': 'Ruminants', 'subphylum': 'Vertebrata', 'subphylum_common': 'Vertebrates'}, {'class': 'Mammalia', 'class_common': 'Mammals', 'confidence': 12.56299614906311, 'family': 'Cervidae', 'family_common': 'Deer', 'genus': 'Odocoileus', 'genus_common': 'White tailed and Mule Deer', 'kingdom': 'Animalia', 'kingdom_common': 'Animals', 'order': 'Artiodactyla', 'order_common': 'Even toed Ungulates', 'phylum': 'Chordata', 'phylum_common': 'Chordates', 'species': 'Odocoileus hemionus', 'species_common': 'Mule Deer', 'suborder': 'Ruminantia', 'suborder_common': 'Ruminants', 'subphylum': 'Vertebrata', 'subphylum_common': 'Vertebrates'}, {'class': 'Mammalia', 'class_common': 'Mammals', 'confidence': 5.561569333076477, 'family': 'Cervidae', 'family_common': 'Deer', 'genus': 'Odocoileus', 'genus_common': 'White tailed and Mule Deer', 'kingdom': 'Animalia', 'kingdom_common': 'Animals', 'order': 'Artiodactyla', 'order_common': 'Even toed Ungulates', 'phylum': 'Chordata', 'phylum_common': 'Chordates', 'species': 'Odocoileus hemionus californicus', 'species_common': 'California Mule Deer', 'suborder': 'Ruminantia', 'suborder_common': 'Ruminants', 'subphylum': 'Vertebrata', 'subphylum_common': 'Vertebrates'}, {'class': 'Mammalia', 'class_common': 'Mammals', 'confidence': 5.3228892385959625, 'family': 'Cervidae', 'family_common': 'Deer', 'genus': 'Odocoileus', 'genus_common': 'White tailed and Mule Deer', 'kingdom': 'Animalia', 'kingdom_common': 'Animals', 'order': 'Artiodactyla', 'order_common': 'Even toed Ungulates', 'phylum': 'Chordata', 'phylum_common': 'Chordates', 'species': 'Odocoileus hemionus hemionus', 'species_common': 'Rocky Mountain Mule Deer', 'suborder': 'Ruminantia', 'suborder_common': 'Ruminants', 'subphylum': 'Vertebrata', 'subphylum_common': 'Vertebrates'}, {'class': 'Mammalia', 'class_common': 'Mammals', 'confidence': 4.59739975631237, 'family': 'Suidae', 'family_common': 'Swines', 'genus': 'Sus', 'genus_common': '', 'kingdom': 'Animalia', 'kingdom_common': 'Animals', 'order': 'Artiodactyla', 'order_common': 'Even toed Ungulates', 'phylum': 'Chordata', 'phylum_common': 'Chordates', 'species': 'Sus scrofa', 'species_common': 'Wild Boar', 'subphylum': 'Vertebrata', 'subphylum_common': 'Vertebrates'}]}, False)\n"
     ]
    },
    {
     "data": {
      "text/html": [
       "<style>.progress-container {margin:0 auto; min-height: 25px;margin:0;width:100%; margin-top:10px}.progress-bar{background-color:#ffc107; padding:3px}.progress-text{color:black; margin-top:5px;} .species .species-common { color:black !important; font-family:'Helvetica Neue',Helvetica,Arial,sans-serif; font-size:14px;line-height:20px;}</style><a style='color:black;' class='species' href='https://bing.com/images/search?q=Odocoileus hemionus columbianus' target='_blank'>Odocoileus hemionus columbianus</a><span class='species-common'>  ( Columbian Black tailed Deer ) </span><div class='progress progress-container'><div class='progress-bar' style='width:13.05%' ><span class='progress-text'>13.05%</span></div></div>"
      ],
      "text/plain": [
       "<IPython.core.display.HTML object>"
      ]
     },
     "metadata": {},
     "output_type": "display_data"
    },
    {
     "data": {
      "text/html": [
       "<a style='color:black;' class='species' href='https://bing.com/images/search?q=Odocoileus hemionus' target='_blank'>Odocoileus hemionus</a><span class='species-common'>  ( Mule Deer ) </span><div class='progress progress-container'><div class='progress-bar' style='width:12.56%' ><span class='progress-text'>12.56%</span></div></div>"
      ],
      "text/plain": [
       "<IPython.core.display.HTML object>"
      ]
     },
     "metadata": {},
     "output_type": "display_data"
    },
    {
     "data": {
      "text/html": [
       "<a style='color:black;' class='species' href='https://bing.com/images/search?q=Odocoileus hemionus californicus' target='_blank'>Odocoileus hemionus californicus</a><span class='species-common'>  ( California Mule Deer ) </span><div class='progress progress-container'><div class='progress-bar' style='width:5.56%' ><span class='progress-text'>5.56%</span></div></div>"
      ],
      "text/plain": [
       "<IPython.core.display.HTML object>"
      ]
     },
     "metadata": {},
     "output_type": "display_data"
    },
    {
     "data": {
      "text/html": [
       "<a style='color:black;' class='species' href='https://bing.com/images/search?q=Odocoileus hemionus hemionus' target='_blank'>Odocoileus hemionus hemionus</a><span class='species-common'>  ( Rocky Mountain Mule Deer ) </span><div class='progress progress-container'><div class='progress-bar' style='width:5.32%' ><span class='progress-text'>5.32%</span></div></div>"
      ],
      "text/plain": [
       "<IPython.core.display.HTML object>"
      ]
     },
     "metadata": {},
     "output_type": "display_data"
    },
    {
     "data": {
      "text/html": [
       "<a style='color:black;' class='species' href='https://bing.com/images/search?q=Sus scrofa' target='_blank'>Sus scrofa</a><span class='species-common'>  ( Wild Boar ) </span><div class='progress progress-container'><div class='progress-bar' style='width:4.6%' ><span class='progress-text'>4.6%</span></div></div>"
      ],
      "text/plain": [
       "<IPython.core.display.HTML object>"
      ]
     },
     "metadata": {},
     "output_type": "display_data"
    },
    {
     "name": "stdout",
     "output_type": "stream",
     "text": [
      "Running API...\n",
      "...done\n"
     ]
    },
    {
     "data": {
      "text/html": [
       "<style>div.output_subarea{overflow-x:hidden !important}.container{margin:0 auto}.single_image{width:50%} </style><div class='container'><div class='image_container'><img class='single_image' src='https://live.staticflickr.com/65535/50561468316_74b9d94115_b.jpg'/></div></div>"
      ],
      "text/plain": [
       "<IPython.core.display.HTML object>"
      ]
     },
     "metadata": {},
     "output_type": "display_data"
    },
    {
     "name": "stdout",
     "output_type": "stream",
     "text": [
      "result:  ({'predictions': [{'class': 'Mammalia', 'class_common': 'Mammals', 'confidence': 30.397072434425354, 'family': 'Cervidae', 'family_common': 'Deer', 'genus': 'Odocoileus', 'genus_common': 'White tailed and Mule Deer', 'kingdom': 'Animalia', 'kingdom_common': 'Animals', 'order': 'Artiodactyla', 'order_common': 'Even toed Ungulates', 'phylum': 'Chordata', 'phylum_common': 'Chordates', 'species': 'Odocoileus hemionus columbianus', 'species_common': 'Columbian Black tailed Deer', 'suborder': 'Ruminantia', 'suborder_common': 'Ruminants', 'subphylum': 'Vertebrata', 'subphylum_common': 'Vertebrates'}, {'class': 'Mammalia', 'class_common': 'Mammals', 'confidence': 11.539672315120697, 'family': 'Cervidae', 'family_common': 'Deer', 'genus': 'Odocoileus', 'genus_common': 'White tailed and Mule Deer', 'kingdom': 'Animalia', 'kingdom_common': 'Animals', 'order': 'Artiodactyla', 'order_common': 'Even toed Ungulates', 'phylum': 'Chordata', 'phylum_common': 'Chordates', 'species': 'Odocoileus virginianus', 'species_common': 'White tailed Deer', 'suborder': 'Ruminantia', 'suborder_common': 'Ruminants', 'subphylum': 'Vertebrata', 'subphylum_common': 'Vertebrates'}, {'class': 'Mammalia', 'class_common': 'Mammals', 'confidence': 11.176756769418716, 'family': 'Cervidae', 'family_common': 'Deer', 'genus': 'Odocoileus', 'genus_common': 'White tailed and Mule Deer', 'kingdom': 'Animalia', 'kingdom_common': 'Animals', 'order': 'Artiodactyla', 'order_common': 'Even toed Ungulates', 'phylum': 'Chordata', 'phylum_common': 'Chordates', 'species': 'Odocoileus hemionus', 'species_common': 'Mule Deer', 'suborder': 'Ruminantia', 'suborder_common': 'Ruminants', 'subphylum': 'Vertebrata', 'subphylum_common': 'Vertebrates'}, {'class': 'Mammalia', 'class_common': 'Mammals', 'confidence': 11.162222921848297, 'family': 'Cervidae', 'family_common': 'Deer', 'genus': 'Cervus', 'genus_common': '', 'kingdom': 'Animalia', 'kingdom_common': 'Animals', 'order': 'Artiodactyla', 'order_common': 'Even toed Ungulates', 'phylum': 'Chordata', 'phylum_common': 'Chordates', 'species': 'Cervus elaphus', 'species_common': 'Red Deer', 'suborder': 'Ruminantia', 'suborder_common': 'Ruminants', 'subphylum': 'Vertebrata', 'subphylum_common': 'Vertebrates'}, {'confidence': 5.944523215293884, 'species': 'Cervus elaphus roosevelti', 'species_common': 'roosevelt elk'}]}, False)\n"
     ]
    },
    {
     "data": {
      "text/html": [
       "<style>.progress-container {margin:0 auto; min-height: 25px;margin:0;width:100%; margin-top:10px}.progress-bar{background-color:#ffc107; padding:3px}.progress-text{color:black; margin-top:5px;} .species .species-common { color:black !important; font-family:'Helvetica Neue',Helvetica,Arial,sans-serif; font-size:14px;line-height:20px;}</style><a style='color:black;' class='species' href='https://bing.com/images/search?q=Odocoileus hemionus columbianus' target='_blank'>Odocoileus hemionus columbianus</a><span class='species-common'>  ( Columbian Black tailed Deer ) </span><div class='progress progress-container'><div class='progress-bar' style='width:30.4%' ><span class='progress-text'>30.4%</span></div></div>"
      ],
      "text/plain": [
       "<IPython.core.display.HTML object>"
      ]
     },
     "metadata": {},
     "output_type": "display_data"
    },
    {
     "data": {
      "text/html": [
       "<a style='color:black;' class='species' href='https://bing.com/images/search?q=Odocoileus virginianus' target='_blank'>Odocoileus virginianus</a><span class='species-common'>  ( White tailed Deer ) </span><div class='progress progress-container'><div class='progress-bar' style='width:11.54%' ><span class='progress-text'>11.54%</span></div></div>"
      ],
      "text/plain": [
       "<IPython.core.display.HTML object>"
      ]
     },
     "metadata": {},
     "output_type": "display_data"
    },
    {
     "data": {
      "text/html": [
       "<a style='color:black;' class='species' href='https://bing.com/images/search?q=Odocoileus hemionus' target='_blank'>Odocoileus hemionus</a><span class='species-common'>  ( Mule Deer ) </span><div class='progress progress-container'><div class='progress-bar' style='width:11.18%' ><span class='progress-text'>11.18%</span></div></div>"
      ],
      "text/plain": [
       "<IPython.core.display.HTML object>"
      ]
     },
     "metadata": {},
     "output_type": "display_data"
    },
    {
     "data": {
      "text/html": [
       "<a style='color:black;' class='species' href='https://bing.com/images/search?q=Cervus elaphus' target='_blank'>Cervus elaphus</a><span class='species-common'>  ( Red Deer ) </span><div class='progress progress-container'><div class='progress-bar' style='width:11.16%' ><span class='progress-text'>11.16%</span></div></div>"
      ],
      "text/plain": [
       "<IPython.core.display.HTML object>"
      ]
     },
     "metadata": {},
     "output_type": "display_data"
    },
    {
     "data": {
      "text/html": [
       "<a style='color:black;' class='species' href='https://bing.com/images/search?q=Cervus elaphus roosevelti' target='_blank'>Cervus elaphus roosevelti</a><span class='species-common'>  ( roosevelt elk ) </span><div class='progress progress-container'><div class='progress-bar' style='width:5.94%' ><span class='progress-text'>5.94%</span></div></div>"
      ],
      "text/plain": [
       "<IPython.core.display.HTML object>"
      ]
     },
     "metadata": {},
     "output_type": "display_data"
    },
    {
     "name": "stdout",
     "output_type": "stream",
     "text": [
      "Running API...\n",
      "...done\n"
     ]
    },
    {
     "data": {
      "text/html": [
       "<style>div.output_subarea{overflow-x:hidden !important}.container{margin:0 auto}.single_image{width:50%} </style><div class='container'><div class='image_container'><img class='single_image' src='https://live.staticflickr.com/65535/50553140586_a04857b1e0_b.jpg'/></div></div>"
      ],
      "text/plain": [
       "<IPython.core.display.HTML object>"
      ]
     },
     "metadata": {},
     "output_type": "display_data"
    },
    {
     "name": "stdout",
     "output_type": "stream",
     "text": [
      "result:  ({'predictions': [{'class': 'Aves', 'class_common': 'Birds', 'confidence': 19.664740562438965, 'family': 'Ardeidae', 'family_common': 'Herons, Egrets, and Bitterns', 'genus': 'Egretta', 'genus_common': '', 'kingdom': 'Animalia', 'kingdom_common': 'Animals', 'order': 'Pelecaniformes', 'order_common': 'Pelicans, Herons, Ibises, and Allies', 'phylum': 'Chordata', 'phylum_common': 'Chordates', 'species': 'Egretta garzetta', 'species_common': 'Little Egret', 'subfamily': 'Ardeinae', 'subfamily_common': '', 'subphylum': 'Vertebrata', 'subphylum_common': 'Vertebrates'}, {'class': 'Aves', 'class_common': 'Birds', 'confidence': 15.311738848686218, 'family': 'Ardeidae', 'family_common': 'Herons, Egrets, and Bitterns', 'genus': 'Ardea', 'genus_common': 'Great Herons', 'kingdom': 'Animalia', 'kingdom_common': 'Animals', 'order': 'Pelecaniformes', 'order_common': 'Pelicans, Herons, Ibises, and Allies', 'phylum': 'Chordata', 'phylum_common': 'Chordates', 'species': 'Ardea herodias', 'species_common': 'Great Blue Heron', 'subfamily': 'Ardeinae', 'subfamily_common': '', 'subphylum': 'Vertebrata', 'subphylum_common': 'Vertebrates'}, {'class': 'Aves', 'class_common': 'Birds', 'confidence': 14.41868245601654, 'family': 'Ardeidae', 'family_common': 'Herons, Egrets, and Bitterns', 'genus': 'Egretta', 'genus_common': '', 'kingdom': 'Animalia', 'kingdom_common': 'Animals', 'order': 'Pelecaniformes', 'order_common': 'Pelicans, Herons, Ibises, and Allies', 'phylum': 'Chordata', 'phylum_common': 'Chordates', 'species': 'Egretta caerulea', 'species_common': 'Little Blue Heron', 'subfamily': 'Ardeinae', 'subfamily_common': '', 'subphylum': 'Vertebrata', 'subphylum_common': 'Vertebrates'}, {'class': 'Aves', 'class_common': 'Birds', 'confidence': 10.413464158773422, 'family': 'Ardeidae', 'family_common': 'Herons, Egrets, and Bitterns', 'genus': 'Egretta', 'genus_common': '', 'kingdom': 'Animalia', 'kingdom_common': 'Animals', 'order': 'Pelecaniformes', 'order_common': 'Pelicans, Herons, Ibises, and Allies', 'phylum': 'Chordata', 'phylum_common': 'Chordates', 'species': 'Egretta thula', 'species_common': 'Snowy Egret', 'subfamily': 'Ardeinae', 'subfamily_common': '', 'subphylum': 'Vertebrata', 'subphylum_common': 'Vertebrates'}, {'class': 'Aves', 'class_common': 'Birds', 'confidence': 8.332090079784393, 'family': 'Ardeidae', 'family_common': 'Herons, Egrets, and Bitterns', 'genus': 'Egretta', 'genus_common': '', 'kingdom': 'Animalia', 'kingdom_common': 'Animals', 'order': 'Pelecaniformes', 'order_common': 'Pelicans, Herons, Ibises, and Allies', 'phylum': 'Chordata', 'phylum_common': 'Chordates', 'species': 'Egretta tricolor', 'species_common': 'Tricolored Heron', 'subfamily': 'Ardeinae', 'subfamily_common': '', 'subphylum': 'Vertebrata', 'subphylum_common': 'Vertebrates'}]}, False)\n"
     ]
    },
    {
     "data": {
      "text/html": [
       "<style>.progress-container {margin:0 auto; min-height: 25px;margin:0;width:100%; margin-top:10px}.progress-bar{background-color:#ffc107; padding:3px}.progress-text{color:black; margin-top:5px;} .species .species-common { color:black !important; font-family:'Helvetica Neue',Helvetica,Arial,sans-serif; font-size:14px;line-height:20px;}</style><a style='color:black;' class='species' href='https://bing.com/images/search?q=Egretta garzetta' target='_blank'>Egretta garzetta</a><span class='species-common'>  ( Little Egret ) </span><div class='progress progress-container'><div class='progress-bar' style='width:19.66%' ><span class='progress-text'>19.66%</span></div></div>"
      ],
      "text/plain": [
       "<IPython.core.display.HTML object>"
      ]
     },
     "metadata": {},
     "output_type": "display_data"
    },
    {
     "data": {
      "text/html": [
       "<a style='color:black;' class='species' href='https://bing.com/images/search?q=Ardea herodias' target='_blank'>Ardea herodias</a><span class='species-common'>  ( Great Blue Heron ) </span><div class='progress progress-container'><div class='progress-bar' style='width:15.31%' ><span class='progress-text'>15.31%</span></div></div>"
      ],
      "text/plain": [
       "<IPython.core.display.HTML object>"
      ]
     },
     "metadata": {},
     "output_type": "display_data"
    },
    {
     "data": {
      "text/html": [
       "<a style='color:black;' class='species' href='https://bing.com/images/search?q=Egretta caerulea' target='_blank'>Egretta caerulea</a><span class='species-common'>  ( Little Blue Heron ) </span><div class='progress progress-container'><div class='progress-bar' style='width:14.42%' ><span class='progress-text'>14.42%</span></div></div>"
      ],
      "text/plain": [
       "<IPython.core.display.HTML object>"
      ]
     },
     "metadata": {},
     "output_type": "display_data"
    },
    {
     "data": {
      "text/html": [
       "<a style='color:black;' class='species' href='https://bing.com/images/search?q=Egretta thula' target='_blank'>Egretta thula</a><span class='species-common'>  ( Snowy Egret ) </span><div class='progress progress-container'><div class='progress-bar' style='width:10.41%' ><span class='progress-text'>10.41%</span></div></div>"
      ],
      "text/plain": [
       "<IPython.core.display.HTML object>"
      ]
     },
     "metadata": {},
     "output_type": "display_data"
    },
    {
     "data": {
      "text/html": [
       "<a style='color:black;' class='species' href='https://bing.com/images/search?q=Egretta tricolor' target='_blank'>Egretta tricolor</a><span class='species-common'>  ( Tricolored Heron ) </span><div class='progress progress-container'><div class='progress-bar' style='width:8.33%' ><span class='progress-text'>8.33%</span></div></div>"
      ],
      "text/plain": [
       "<IPython.core.display.HTML object>"
      ]
     },
     "metadata": {},
     "output_type": "display_data"
    },
    {
     "name": "stdout",
     "output_type": "stream",
     "text": [
      "Running API...\n",
      "...done\n"
     ]
    },
    {
     "data": {
      "text/html": [
       "<style>div.output_subarea{overflow-x:hidden !important}.container{margin:0 auto}.single_image{width:50%} </style><div class='container'><div class='image_container'><img class='single_image' src='https://live.staticflickr.com/65535/50543914708_e597b1c4d4_b.jpg'/></div></div>"
      ],
      "text/plain": [
       "<IPython.core.display.HTML object>"
      ]
     },
     "metadata": {},
     "output_type": "display_data"
    },
    {
     "name": "stdout",
     "output_type": "stream",
     "text": [
      "result:  ({'predictions': [{'class': 'Aves', 'class_common': 'Birds', 'confidence': 95.41850090026855, 'family': 'Cardinalidae', 'family_common': 'Cardinals and Allies', 'genus': 'Cardinalis', 'genus_common': 'Typical Cardinals', 'kingdom': 'Animalia', 'kingdom_common': 'Animals', 'order': 'Passeriformes', 'order_common': 'Perching Birds', 'phylum': 'Chordata', 'phylum_common': 'Chordates', 'species': 'Cardinalis cardinalis', 'species_common': 'Northern Cardinal', 'subphylum': 'Vertebrata', 'subphylum_common': 'Vertebrates'}, {'class': 'Aves', 'class_common': 'Birds', 'confidence': 3.2150261104106903, 'family': 'Cardinalidae', 'family_common': 'Cardinals and Allies', 'genus': 'Cardinalis', 'genus_common': 'Typical Cardinals', 'kingdom': 'Animalia', 'kingdom_common': 'Animals', 'order': 'Passeriformes', 'order_common': 'Perching Birds', 'phylum': 'Chordata', 'phylum_common': 'Chordates', 'species': 'Cardinalis sinuatus', 'species_common': 'Pyrrhuloxia', 'subphylum': 'Vertebrata', 'subphylum_common': 'Vertebrates'}, {'class': 'Aves', 'class_common': 'Birds', 'confidence': 0.03369880432728678, 'family': 'Icteridae', 'family_common': 'New World Blackbirds and Orioles', 'genus': 'Icterus', 'genus_common': 'New World Orioles', 'kingdom': 'Animalia', 'kingdom_common': 'Animals', 'order': 'Passeriformes', 'order_common': 'Perching Birds', 'phylum': 'Chordata', 'phylum_common': 'Chordates', 'species': 'Icterus gularis', 'species_common': 'Altamira Oriole', 'subphylum': 'Vertebrata', 'subphylum_common': 'Vertebrates'}, {'class': 'Aves', 'class_common': 'Birds', 'confidence': 0.032280245795845985, 'family': 'Thraupidae', 'family_common': 'Tanagers and Allies', 'genus': 'Paroaria', 'genus_common': 'Red headed Cardinals', 'kingdom': 'Animalia', 'kingdom_common': 'Animals', 'order': 'Passeriformes', 'order_common': 'Perching Birds', 'phylum': 'Chordata', 'phylum_common': 'Chordates', 'species': 'Paroaria coronata', 'species_common': 'Red crested Cardinal', 'subphylum': 'Vertebrata', 'subphylum_common': 'Vertebrates'}, {'class': 'Aves', 'class_common': 'Birds', 'confidence': 0.01819162571337074, 'family': 'Parulidae', 'family_common': 'New World Warblers', 'genus': 'Cardellina', 'genus_common': '', 'kingdom': 'Animalia', 'kingdom_common': 'Animals', 'order': 'Passeriformes', 'order_common': 'Perching Birds', 'phylum': 'Chordata', 'phylum_common': 'Chordates', 'species': 'Cardellina rubra', 'species_common': 'Red Warbler', 'subphylum': 'Vertebrata', 'subphylum_common': 'Vertebrates'}]}, False)\n"
     ]
    },
    {
     "data": {
      "text/html": [
       "<style>.progress-container {margin:0 auto; min-height: 25px;margin:0;width:100%; margin-top:10px}.progress-bar{background-color:#ffc107; padding:3px}.progress-text{color:black; margin-top:5px;} .species .species-common { color:black !important; font-family:'Helvetica Neue',Helvetica,Arial,sans-serif; font-size:14px;line-height:20px;}</style><a style='color:black;' class='species' href='https://bing.com/images/search?q=Cardinalis cardinalis' target='_blank'>Cardinalis cardinalis</a><span class='species-common'>  ( Northern Cardinal ) </span><div class='progress progress-container'><div class='progress-bar' style='width:95.42%' ><span class='progress-text'>95.42%</span></div></div>"
      ],
      "text/plain": [
       "<IPython.core.display.HTML object>"
      ]
     },
     "metadata": {},
     "output_type": "display_data"
    },
    {
     "data": {
      "text/html": [
       "<a style='color:black;' class='species' href='https://bing.com/images/search?q=Cardinalis sinuatus' target='_blank'>Cardinalis sinuatus</a><span class='species-common'>  ( Pyrrhuloxia ) </span><div class='progress progress-container'><div class='progress-bar' style='width:3.22%' ><span class='progress-text'>3.22%</span></div></div>"
      ],
      "text/plain": [
       "<IPython.core.display.HTML object>"
      ]
     },
     "metadata": {},
     "output_type": "display_data"
    },
    {
     "data": {
      "text/html": [
       "<a style='color:black;' class='species' href='https://bing.com/images/search?q=Icterus gularis' target='_blank'>Icterus gularis</a><span class='species-common'>  ( Altamira Oriole ) </span><div class='progress progress-container'><div class='progress-bar' style='width:0.03%' ><span class='progress-text'>0.03%</span></div></div>"
      ],
      "text/plain": [
       "<IPython.core.display.HTML object>"
      ]
     },
     "metadata": {},
     "output_type": "display_data"
    },
    {
     "data": {
      "text/html": [
       "<a style='color:black;' class='species' href='https://bing.com/images/search?q=Paroaria coronata' target='_blank'>Paroaria coronata</a><span class='species-common'>  ( Red crested Cardinal ) </span><div class='progress progress-container'><div class='progress-bar' style='width:0.03%' ><span class='progress-text'>0.03%</span></div></div>"
      ],
      "text/plain": [
       "<IPython.core.display.HTML object>"
      ]
     },
     "metadata": {},
     "output_type": "display_data"
    },
    {
     "data": {
      "text/html": [
       "<a style='color:black;' class='species' href='https://bing.com/images/search?q=Cardellina rubra' target='_blank'>Cardellina rubra</a><span class='species-common'>  ( Red Warbler ) </span><div class='progress progress-container'><div class='progress-bar' style='width:0.02%' ><span class='progress-text'>0.02%</span></div></div>"
      ],
      "text/plain": [
       "<IPython.core.display.HTML object>"
      ]
     },
     "metadata": {},
     "output_type": "display_data"
    }
   ],
   "source": [
    "cs = SpeciesClassifier()\n",
    "for image in image_data:\n",
    "    cs.classify_and_display_results(image)#image_data[i])"
   ]
  }
 ],
 "metadata": {
  "kernelspec": {
   "display_name": "Python 3",
   "language": "python",
   "name": "python3"
  },
  "language_info": {
   "codemirror_mode": {
    "name": "ipython",
    "version": 3
   },
   "file_extension": ".py",
   "mimetype": "text/x-python",
   "name": "python",
   "nbconvert_exporter": "python",
   "pygments_lexer": "ipython3",
   "version": "3.7.3"
  }
 },
 "nbformat": 4,
 "nbformat_minor": 4
}
