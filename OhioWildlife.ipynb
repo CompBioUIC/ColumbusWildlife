{
 "cells": [
  {
   "cell_type": "markdown",
   "metadata": {},
   "source": [
    "## Installation Requirements and Module Configuration"
   ]
  },
  {
   "cell_type": "markdown",
   "metadata": {},
   "source": [
    "If you would like to run in your own environment, the following dependencies are required"
   ]
  },
  {
   "cell_type": "code",
   "execution_count": 1,
   "metadata": {},
   "outputs": [],
   "source": [
    "## Dependencies\n",
    "# !pip install azure-storage-blob"
   ]
  },
  {
   "cell_type": "code",
   "execution_count": 2,
   "metadata": {},
   "outputs": [],
   "source": [
    "#to reflect changes made in modules\n",
    "%load_ext autoreload\n",
    "%autoreload 2"
   ]
  },
  {
   "cell_type": "code",
   "execution_count": 3,
   "metadata": {},
   "outputs": [],
   "source": [
    "##imports\n",
    "import pandas as pd\n",
    "import os, sys\n",
    "import json\n",
    "sys.path.append(os.path.join(sys.path[0], '../'))\n",
    "\n",
    "# from columbus_wildlife_workshop import Flickr\n",
    "from ColumbusWildlife import Flickr\n",
    "fr = Flickr() \n",
    "\n",
    "from image_data import Save\n",
    "s = Save()"
   ]
  },
  {
   "cell_type": "markdown",
   "metadata": {},
   "source": [
    "# Query Terms"
   ]
  },
  {
   "cell_type": "markdown",
   "metadata": {},
   "source": [
    "Feel free to play around and modify the query term to see how your results differ :)"
   ]
  },
  {
   "cell_type": "code",
   "execution_count": null,
   "metadata": {},
   "outputs": [],
   "source": [
    "term = 'Columbus AND Ohio AND wildlife AND NOT zoo AND NOT domestic'"
   ]
  },
  {
   "cell_type": "markdown",
   "metadata": {},
   "source": [
    "# Flickr API"
   ]
  },
  {
   "cell_type": "markdown",
   "metadata": {},
   "source": [
    "Connect to Flickr photos search api \n",
    "API will retrieve results for term selected and download them to a zip file specified"
   ]
  },
  {
   "cell_type": "code",
   "execution_count": null,
   "metadata": {},
   "outputs": [],
   "source": [
    "json_res = fr.search(term, saveTo=True)"
   ]
  },
  {
   "cell_type": "code",
   "execution_count": null,
   "metadata": {},
   "outputs": [],
   "source": [
    "print(len(json_res))\n",
    "## Writing flickr results with metadata to flickr_metadata.json \n",
    "json_object = json.dumps(json_res, indent = 4) \n",
    "with open(\"flickr_metadata.json\", \"w\") as outfile: \n",
    "    outfile.write(json_object) "
   ]
  },
  {
   "cell_type": "markdown",
   "metadata": {},
   "source": [
    "# Download Images From Flickr to A Folder\n",
    "In the same directory this notebook is in, create a folder \"images\".\n",
    "This folder will contain all jpg images from the Flickr API query"
   ]
  },
  {
   "cell_type": "markdown",
   "metadata": {},
   "source": [
    "Save images to a folder specied. As we save images, we build a list of dictionaries representing the images.\n",
    "\n",
    "For each image, we construct a dictionary with:\n",
    "   - url: img url from flickr\n",
    "   - name: name of image\n",
    "   - data: bytearray representation of img "
   ]
  },
  {
   "cell_type": "code",
   "execution_count": null,
   "metadata": {},
   "outputs": [],
   "source": [
    "# For Species Classfier Images \n",
    "file_path = \"classifier_images/\"\n",
    "list_images = s.download_images(file_path, json_res)"
   ]
  },
  {
   "cell_type": "markdown",
   "metadata": {},
   "source": [
    "# Load in Images from Flickr\n",
    "Run this cell if you did not run the flickr query.\n",
    "Because the Species Classification API requires our images represented by dictionaries, we have to do a bit of \n",
    "formatting.\n",
    "\n",
    "(Use for demo)"
   ]
  },
  {
   "cell_type": "code",
   "execution_count": 4,
   "metadata": {},
   "outputs": [],
   "source": [
    "## Writing contents of flickr_metadata.json to image dictionaries for future use\n",
    "import json \n",
    "  \n",
    "# Opening JSON file \n",
    "f = open('flickr_metadata.json',) \n",
    "  \n",
    "# returns JSON object as a dictionary \n",
    "json_res = json.load(f) "
   ]
  },
  {
   "cell_type": "code",
   "execution_count": 8,
   "metadata": {},
   "outputs": [
    {
     "name": "stdout",
     "output_type": "stream",
     "text": [
      "retrieving data from json_res...\n",
      "done building image dictionaries from json file!\n"
     ]
    }
   ],
   "source": [
    "# for demo - get one page of results \n",
    "list_images = s.download_metadata(json_res[0], demo_one_page = True)"
   ]
  },
  {
   "cell_type": "code",
   "execution_count": 11,
   "metadata": {},
   "outputs": [],
   "source": [
    "#visualize one of the contents of list_images\n",
    "# list_images[0]"
   ]
  },
  {
   "cell_type": "markdown",
   "metadata": {},
   "source": [
    "# Species Classfication"
   ]
  },
  {
   "cell_type": "code",
   "execution_count": 12,
   "metadata": {},
   "outputs": [],
   "source": [
    "# from columbus_wildlife_workshop import SpeciesClassifier\n",
    "from ColumbusWildlife import SpeciesClassifier\n",
    "cs = SpeciesClassifier()"
   ]
  },
  {
   "cell_type": "markdown",
   "metadata": {},
   "source": [
    "Connect to Microsoft Azure SpeciesClassification API to generate predictions on species in frame using the photos collected from the Flickr API. Once you have a key - go to species_classifier and set your key as the variable API_KEY"
   ]
  },
  {
   "cell_type": "markdown",
   "metadata": {},
   "source": [
    "Note: To run the following code, you'll need to request an API key for the Species Classification API\n",
    "For more info on doing so, visit\n",
    "https://docs.microsoft.com/en-us/azure/architecture/solution-ideas/articles/ai-for-earth "
   ]
  },
  {
   "cell_type": "markdown",
   "metadata": {},
   "source": [
    "please note that the following code only outputs the visuals of the predictions generated by the API, but does not \n",
    "save the results to any data structure or file for future use. Instead, we do so while building a dictionary object \n",
    "representing each image in the ground truths section. \n",
    "\n",
    "This Species Classification section is to help you understand the output format of the predictions results we receive"
   ]
  },
  {
   "cell_type": "code",
   "execution_count": 13,
   "metadata": {},
   "outputs": [
    {
     "name": "stdout",
     "output_type": "stream",
     "text": [
      "<class 'list'>\n"
     ]
    }
   ],
   "source": [
    "# get list of image dicts\n",
    "image_data = list_images\n",
    "print(type(image_data))"
   ]
  },
  {
   "cell_type": "code",
   "execution_count": 15,
   "metadata": {},
   "outputs": [
    {
     "name": "stdout",
     "output_type": "stream",
     "text": [
      "Image 1/97 ...\n"
     ]
    },
    {
     "data": {
      "text/html": [
       "<style>div.output_subarea{overflow-x:hidden !important}.container{margin:0 auto}.single_image{width:50%} </style><div class='container'><div class='image_container'><img class='single_image' src='https://live.staticflickr.com/65535/50567923271_926d37d247_b.jpg'/></div></div>"
      ],
      "text/plain": [
       "<IPython.core.display.HTML object>"
      ]
     },
     "metadata": {},
     "output_type": "display_data"
    },
    {
     "name": "stdout",
     "output_type": "stream",
     "text": [
      "result:  ({'predictions': [{'class': 'Aves', 'class_common': 'Birds', 'confidence': 48.289334774017334, 'family': 'Alcedinidae', 'family_common': 'Kingfishers', 'genus': 'Megaceryle', 'genus_common': '', 'kingdom': 'Animalia', 'kingdom_common': 'Animals', 'order': 'Coraciiformes', 'order_common': 'Kingfishers and Allies', 'phylum': 'Chordata', 'phylum_common': 'Chordates', 'species': 'Megaceryle alcyon', 'species_common': 'Belted Kingfisher', 'subphylum': 'Vertebrata', 'subphylum_common': 'Vertebrates'}, {'class': 'Aves', 'class_common': 'Birds', 'confidence': 23.83272796869278, 'family': 'Alcedinidae', 'family_common': 'Kingfishers', 'genus': 'Chloroceryle', 'genus_common': 'American Green Kingfishers', 'kingdom': 'Animalia', 'kingdom_common': 'Animals', 'order': 'Coraciiformes', 'order_common': 'Kingfishers and Allies', 'phylum': 'Chordata', 'phylum_common': 'Chordates', 'species': 'Chloroceryle amazona', 'species_common': 'Amazon Kingfisher', 'subphylum': 'Vertebrata', 'subphylum_common': 'Vertebrates'}, {'class': 'Aves', 'class_common': 'Birds', 'confidence': 15.387740731239319, 'family': 'Alcedinidae', 'family_common': 'Kingfishers', 'genus': 'Megaceryle', 'genus_common': '', 'kingdom': 'Animalia', 'kingdom_common': 'Animals', 'order': 'Coraciiformes', 'order_common': 'Kingfishers and Allies', 'phylum': 'Chordata', 'phylum_common': 'Chordates', 'species': 'Megaceryle torquata', 'species_common': 'Ringed Kingfisher', 'subphylum': 'Vertebrata', 'subphylum_common': 'Vertebrates'}, {'class': 'Aves', 'class_common': 'Birds', 'confidence': 1.7697395756840706, 'family': 'Alcedinidae', 'family_common': 'Kingfishers', 'genus': 'Chloroceryle', 'genus_common': 'American Green Kingfishers', 'kingdom': 'Animalia', 'kingdom_common': 'Animals', 'order': 'Coraciiformes', 'order_common': 'Kingfishers and Allies', 'phylum': 'Chordata', 'phylum_common': 'Chordates', 'species': 'Chloroceryle aenea', 'species_common': 'American Pygmy Kingfisher', 'subphylum': 'Vertebrata', 'subphylum_common': 'Vertebrates'}, {'class': 'Aves', 'class_common': 'Birds', 'confidence': 1.2283433228731155, 'family': 'Alcedinidae', 'family_common': 'Kingfishers', 'genus': 'Chloroceryle', 'genus_common': 'American Green Kingfishers', 'kingdom': 'Animalia', 'kingdom_common': 'Animals', 'order': 'Coraciiformes', 'order_common': 'Kingfishers and Allies', 'phylum': 'Chordata', 'phylum_common': 'Chordates', 'species': 'Chloroceryle americana', 'species_common': 'Green Kingfisher', 'subphylum': 'Vertebrata', 'subphylum_common': 'Vertebrates'}]}, False)\n"
     ]
    },
    {
     "data": {
      "text/html": [
       "<style>.progress-container {margin:0 auto; min-height: 25px;margin:0;width:100%; margin-top:10px}.progress-bar{background-color:#ffc107; padding:3px}.progress-text{color:black; margin-top:5px;} .species .species-common { color:black !important; font-family:'Helvetica Neue',Helvetica,Arial,sans-serif; font-size:14px;line-height:20px;}</style><a style='color:black;' class='species' href='https://bing.com/images/search?q=Megaceryle alcyon' target='_blank'>Megaceryle alcyon</a><span class='species-common'>  ( Belted Kingfisher ) </span><div class='progress progress-container'><div class='progress-bar' style='width:48.29%' ><span class='progress-text'>48.29%</span></div></div>"
      ],
      "text/plain": [
       "<IPython.core.display.HTML object>"
      ]
     },
     "metadata": {},
     "output_type": "display_data"
    },
    {
     "data": {
      "text/html": [
       "<a style='color:black;' class='species' href='https://bing.com/images/search?q=Chloroceryle amazona' target='_blank'>Chloroceryle amazona</a><span class='species-common'>  ( Amazon Kingfisher ) </span><div class='progress progress-container'><div class='progress-bar' style='width:23.83%' ><span class='progress-text'>23.83%</span></div></div>"
      ],
      "text/plain": [
       "<IPython.core.display.HTML object>"
      ]
     },
     "metadata": {},
     "output_type": "display_data"
    },
    {
     "data": {
      "text/html": [
       "<a style='color:black;' class='species' href='https://bing.com/images/search?q=Megaceryle torquata' target='_blank'>Megaceryle torquata</a><span class='species-common'>  ( Ringed Kingfisher ) </span><div class='progress progress-container'><div class='progress-bar' style='width:15.39%' ><span class='progress-text'>15.39%</span></div></div>"
      ],
      "text/plain": [
       "<IPython.core.display.HTML object>"
      ]
     },
     "metadata": {},
     "output_type": "display_data"
    },
    {
     "data": {
      "text/html": [
       "<a style='color:black;' class='species' href='https://bing.com/images/search?q=Chloroceryle aenea' target='_blank'>Chloroceryle aenea</a><span class='species-common'>  ( American Pygmy Kingfisher ) </span><div class='progress progress-container'><div class='progress-bar' style='width:1.77%' ><span class='progress-text'>1.77%</span></div></div>"
      ],
      "text/plain": [
       "<IPython.core.display.HTML object>"
      ]
     },
     "metadata": {},
     "output_type": "display_data"
    },
    {
     "data": {
      "text/html": [
       "<a style='color:black;' class='species' href='https://bing.com/images/search?q=Chloroceryle americana' target='_blank'>Chloroceryle americana</a><span class='species-common'>  ( Green Kingfisher ) </span><div class='progress progress-container'><div class='progress-bar' style='width:1.23%' ><span class='progress-text'>1.23%</span></div></div>"
      ],
      "text/plain": [
       "<IPython.core.display.HTML object>"
      ]
     },
     "metadata": {},
     "output_type": "display_data"
    },
    {
     "name": "stdout",
     "output_type": "stream",
     "text": [
      "Image 2/97 ...\n"
     ]
    },
    {
     "data": {
      "text/html": [
       "<style>div.output_subarea{overflow-x:hidden !important}.container{margin:0 auto}.single_image{width:50%} </style><div class='container'><div class='image_container'><img class='single_image' src='https://live.staticflickr.com/65535/50561597437_b02dc4f1e4_b.jpg'/></div></div>"
      ],
      "text/plain": [
       "<IPython.core.display.HTML object>"
      ]
     },
     "metadata": {},
     "output_type": "display_data"
    },
    {
     "name": "stdout",
     "output_type": "stream",
     "text": [
      "result:  ({'predictions': [{'class': 'Mammalia', 'class_common': 'Mammals', 'confidence': 13.054774701595306, 'family': 'Cervidae', 'family_common': 'Deer', 'genus': 'Odocoileus', 'genus_common': 'White tailed and Mule Deer', 'kingdom': 'Animalia', 'kingdom_common': 'Animals', 'order': 'Artiodactyla', 'order_common': 'Even toed Ungulates', 'phylum': 'Chordata', 'phylum_common': 'Chordates', 'species': 'Odocoileus hemionus columbianus', 'species_common': 'Columbian Black tailed Deer', 'suborder': 'Ruminantia', 'suborder_common': 'Ruminants', 'subphylum': 'Vertebrata', 'subphylum_common': 'Vertebrates'}, {'class': 'Mammalia', 'class_common': 'Mammals', 'confidence': 12.56299614906311, 'family': 'Cervidae', 'family_common': 'Deer', 'genus': 'Odocoileus', 'genus_common': 'White tailed and Mule Deer', 'kingdom': 'Animalia', 'kingdom_common': 'Animals', 'order': 'Artiodactyla', 'order_common': 'Even toed Ungulates', 'phylum': 'Chordata', 'phylum_common': 'Chordates', 'species': 'Odocoileus hemionus', 'species_common': 'Mule Deer', 'suborder': 'Ruminantia', 'suborder_common': 'Ruminants', 'subphylum': 'Vertebrata', 'subphylum_common': 'Vertebrates'}, {'class': 'Mammalia', 'class_common': 'Mammals', 'confidence': 5.561569333076477, 'family': 'Cervidae', 'family_common': 'Deer', 'genus': 'Odocoileus', 'genus_common': 'White tailed and Mule Deer', 'kingdom': 'Animalia', 'kingdom_common': 'Animals', 'order': 'Artiodactyla', 'order_common': 'Even toed Ungulates', 'phylum': 'Chordata', 'phylum_common': 'Chordates', 'species': 'Odocoileus hemionus californicus', 'species_common': 'California Mule Deer', 'suborder': 'Ruminantia', 'suborder_common': 'Ruminants', 'subphylum': 'Vertebrata', 'subphylum_common': 'Vertebrates'}, {'class': 'Mammalia', 'class_common': 'Mammals', 'confidence': 5.3228892385959625, 'family': 'Cervidae', 'family_common': 'Deer', 'genus': 'Odocoileus', 'genus_common': 'White tailed and Mule Deer', 'kingdom': 'Animalia', 'kingdom_common': 'Animals', 'order': 'Artiodactyla', 'order_common': 'Even toed Ungulates', 'phylum': 'Chordata', 'phylum_common': 'Chordates', 'species': 'Odocoileus hemionus hemionus', 'species_common': 'Rocky Mountain Mule Deer', 'suborder': 'Ruminantia', 'suborder_common': 'Ruminants', 'subphylum': 'Vertebrata', 'subphylum_common': 'Vertebrates'}, {'class': 'Mammalia', 'class_common': 'Mammals', 'confidence': 4.59739975631237, 'family': 'Suidae', 'family_common': 'Swines', 'genus': 'Sus', 'genus_common': '', 'kingdom': 'Animalia', 'kingdom_common': 'Animals', 'order': 'Artiodactyla', 'order_common': 'Even toed Ungulates', 'phylum': 'Chordata', 'phylum_common': 'Chordates', 'species': 'Sus scrofa', 'species_common': 'Wild Boar', 'subphylum': 'Vertebrata', 'subphylum_common': 'Vertebrates'}]}, False)\n"
     ]
    },
    {
     "data": {
      "text/html": [
       "<style>.progress-container {margin:0 auto; min-height: 25px;margin:0;width:100%; margin-top:10px}.progress-bar{background-color:#ffc107; padding:3px}.progress-text{color:black; margin-top:5px;} .species .species-common { color:black !important; font-family:'Helvetica Neue',Helvetica,Arial,sans-serif; font-size:14px;line-height:20px;}</style><a style='color:black;' class='species' href='https://bing.com/images/search?q=Odocoileus hemionus columbianus' target='_blank'>Odocoileus hemionus columbianus</a><span class='species-common'>  ( Columbian Black tailed Deer ) </span><div class='progress progress-container'><div class='progress-bar' style='width:13.05%' ><span class='progress-text'>13.05%</span></div></div>"
      ],
      "text/plain": [
       "<IPython.core.display.HTML object>"
      ]
     },
     "metadata": {},
     "output_type": "display_data"
    },
    {
     "data": {
      "text/html": [
       "<a style='color:black;' class='species' href='https://bing.com/images/search?q=Odocoileus hemionus' target='_blank'>Odocoileus hemionus</a><span class='species-common'>  ( Mule Deer ) </span><div class='progress progress-container'><div class='progress-bar' style='width:12.56%' ><span class='progress-text'>12.56%</span></div></div>"
      ],
      "text/plain": [
       "<IPython.core.display.HTML object>"
      ]
     },
     "metadata": {},
     "output_type": "display_data"
    },
    {
     "data": {
      "text/html": [
       "<a style='color:black;' class='species' href='https://bing.com/images/search?q=Odocoileus hemionus californicus' target='_blank'>Odocoileus hemionus californicus</a><span class='species-common'>  ( California Mule Deer ) </span><div class='progress progress-container'><div class='progress-bar' style='width:5.56%' ><span class='progress-text'>5.56%</span></div></div>"
      ],
      "text/plain": [
       "<IPython.core.display.HTML object>"
      ]
     },
     "metadata": {},
     "output_type": "display_data"
    },
    {
     "data": {
      "text/html": [
       "<a style='color:black;' class='species' href='https://bing.com/images/search?q=Odocoileus hemionus hemionus' target='_blank'>Odocoileus hemionus hemionus</a><span class='species-common'>  ( Rocky Mountain Mule Deer ) </span><div class='progress progress-container'><div class='progress-bar' style='width:5.32%' ><span class='progress-text'>5.32%</span></div></div>"
      ],
      "text/plain": [
       "<IPython.core.display.HTML object>"
      ]
     },
     "metadata": {},
     "output_type": "display_data"
    },
    {
     "data": {
      "text/html": [
       "<a style='color:black;' class='species' href='https://bing.com/images/search?q=Sus scrofa' target='_blank'>Sus scrofa</a><span class='species-common'>  ( Wild Boar ) </span><div class='progress progress-container'><div class='progress-bar' style='width:4.6%' ><span class='progress-text'>4.6%</span></div></div>"
      ],
      "text/plain": [
       "<IPython.core.display.HTML object>"
      ]
     },
     "metadata": {},
     "output_type": "display_data"
    },
    {
     "name": "stdout",
     "output_type": "stream",
     "text": [
      "Image 3/97 ...\n"
     ]
    },
    {
     "data": {
      "text/html": [
       "<style>div.output_subarea{overflow-x:hidden !important}.container{margin:0 auto}.single_image{width:50%} </style><div class='container'><div class='image_container'><img class='single_image' src='https://live.staticflickr.com/65535/50561468316_74b9d94115_b.jpg'/></div></div>"
      ],
      "text/plain": [
       "<IPython.core.display.HTML object>"
      ]
     },
     "metadata": {},
     "output_type": "display_data"
    },
    {
     "name": "stdout",
     "output_type": "stream",
     "text": [
      "result:  ({'predictions': [{'class': 'Mammalia', 'class_common': 'Mammals', 'confidence': 30.397072434425354, 'family': 'Cervidae', 'family_common': 'Deer', 'genus': 'Odocoileus', 'genus_common': 'White tailed and Mule Deer', 'kingdom': 'Animalia', 'kingdom_common': 'Animals', 'order': 'Artiodactyla', 'order_common': 'Even toed Ungulates', 'phylum': 'Chordata', 'phylum_common': 'Chordates', 'species': 'Odocoileus hemionus columbianus', 'species_common': 'Columbian Black tailed Deer', 'suborder': 'Ruminantia', 'suborder_common': 'Ruminants', 'subphylum': 'Vertebrata', 'subphylum_common': 'Vertebrates'}, {'class': 'Mammalia', 'class_common': 'Mammals', 'confidence': 11.539672315120697, 'family': 'Cervidae', 'family_common': 'Deer', 'genus': 'Odocoileus', 'genus_common': 'White tailed and Mule Deer', 'kingdom': 'Animalia', 'kingdom_common': 'Animals', 'order': 'Artiodactyla', 'order_common': 'Even toed Ungulates', 'phylum': 'Chordata', 'phylum_common': 'Chordates', 'species': 'Odocoileus virginianus', 'species_common': 'White tailed Deer', 'suborder': 'Ruminantia', 'suborder_common': 'Ruminants', 'subphylum': 'Vertebrata', 'subphylum_common': 'Vertebrates'}, {'class': 'Mammalia', 'class_common': 'Mammals', 'confidence': 11.176756769418716, 'family': 'Cervidae', 'family_common': 'Deer', 'genus': 'Odocoileus', 'genus_common': 'White tailed and Mule Deer', 'kingdom': 'Animalia', 'kingdom_common': 'Animals', 'order': 'Artiodactyla', 'order_common': 'Even toed Ungulates', 'phylum': 'Chordata', 'phylum_common': 'Chordates', 'species': 'Odocoileus hemionus', 'species_common': 'Mule Deer', 'suborder': 'Ruminantia', 'suborder_common': 'Ruminants', 'subphylum': 'Vertebrata', 'subphylum_common': 'Vertebrates'}, {'class': 'Mammalia', 'class_common': 'Mammals', 'confidence': 11.162222921848297, 'family': 'Cervidae', 'family_common': 'Deer', 'genus': 'Cervus', 'genus_common': '', 'kingdom': 'Animalia', 'kingdom_common': 'Animals', 'order': 'Artiodactyla', 'order_common': 'Even toed Ungulates', 'phylum': 'Chordata', 'phylum_common': 'Chordates', 'species': 'Cervus elaphus', 'species_common': 'Red Deer', 'suborder': 'Ruminantia', 'suborder_common': 'Ruminants', 'subphylum': 'Vertebrata', 'subphylum_common': 'Vertebrates'}, {'confidence': 5.944523215293884, 'species': 'Cervus elaphus roosevelti', 'species_common': 'roosevelt elk'}]}, False)\n"
     ]
    },
    {
     "data": {
      "text/html": [
       "<style>.progress-container {margin:0 auto; min-height: 25px;margin:0;width:100%; margin-top:10px}.progress-bar{background-color:#ffc107; padding:3px}.progress-text{color:black; margin-top:5px;} .species .species-common { color:black !important; font-family:'Helvetica Neue',Helvetica,Arial,sans-serif; font-size:14px;line-height:20px;}</style><a style='color:black;' class='species' href='https://bing.com/images/search?q=Odocoileus hemionus columbianus' target='_blank'>Odocoileus hemionus columbianus</a><span class='species-common'>  ( Columbian Black tailed Deer ) </span><div class='progress progress-container'><div class='progress-bar' style='width:30.4%' ><span class='progress-text'>30.4%</span></div></div>"
      ],
      "text/plain": [
       "<IPython.core.display.HTML object>"
      ]
     },
     "metadata": {},
     "output_type": "display_data"
    },
    {
     "data": {
      "text/html": [
       "<a style='color:black;' class='species' href='https://bing.com/images/search?q=Odocoileus virginianus' target='_blank'>Odocoileus virginianus</a><span class='species-common'>  ( White tailed Deer ) </span><div class='progress progress-container'><div class='progress-bar' style='width:11.54%' ><span class='progress-text'>11.54%</span></div></div>"
      ],
      "text/plain": [
       "<IPython.core.display.HTML object>"
      ]
     },
     "metadata": {},
     "output_type": "display_data"
    },
    {
     "data": {
      "text/html": [
       "<a style='color:black;' class='species' href='https://bing.com/images/search?q=Odocoileus hemionus' target='_blank'>Odocoileus hemionus</a><span class='species-common'>  ( Mule Deer ) </span><div class='progress progress-container'><div class='progress-bar' style='width:11.18%' ><span class='progress-text'>11.18%</span></div></div>"
      ],
      "text/plain": [
       "<IPython.core.display.HTML object>"
      ]
     },
     "metadata": {},
     "output_type": "display_data"
    },
    {
     "data": {
      "text/html": [
       "<a style='color:black;' class='species' href='https://bing.com/images/search?q=Cervus elaphus' target='_blank'>Cervus elaphus</a><span class='species-common'>  ( Red Deer ) </span><div class='progress progress-container'><div class='progress-bar' style='width:11.16%' ><span class='progress-text'>11.16%</span></div></div>"
      ],
      "text/plain": [
       "<IPython.core.display.HTML object>"
      ]
     },
     "metadata": {},
     "output_type": "display_data"
    },
    {
     "data": {
      "text/html": [
       "<a style='color:black;' class='species' href='https://bing.com/images/search?q=Cervus elaphus roosevelti' target='_blank'>Cervus elaphus roosevelti</a><span class='species-common'>  ( roosevelt elk ) </span><div class='progress progress-container'><div class='progress-bar' style='width:5.94%' ><span class='progress-text'>5.94%</span></div></div>"
      ],
      "text/plain": [
       "<IPython.core.display.HTML object>"
      ]
     },
     "metadata": {},
     "output_type": "display_data"
    }
   ],
   "source": [
    "#visualize a small subset of our images being run through the classifier\n",
    "i = 1\n",
    "for image in image_data[0:3]:\n",
    "    print(\"Image {}/{} ...\".format(i, len(image_data)))\n",
    "    cs.classify_and_display_results(image) ##uncomment to visualize each result\n",
    "    i+=1"
   ]
  },
  {
   "cell_type": "markdown",
   "metadata": {},
   "source": [
    "### Building a dataframe for image data\n",
    "- img name\n",
    "- species prediction (we store the most confident one, which is the first item in 'predictions' return value\n",
    "- true species"
   ]
  },
  {
   "cell_type": "code",
   "execution_count": null,
   "metadata": {},
   "outputs": [],
   "source": [
    "conf_threshold = 20.0 #change this to reflect the level of confidence you want to accept from predicted results\n",
    "predictions = []\n",
    "json_predictions = {} \n",
    "image_data_json = {}\n",
    "print('running API...')\n",
    "for image in image_data:\n",
    "    result = cs.get_api_response(image['data'])\n",
    "    if result[0]['predictions'][0]['confidence'] > conf_threshold:\n",
    "        pred = {'image': image['name'],\n",
    "                'image_url': image['url'],\n",
    "                'species_prediction': result[0]['predictions'][0]['species_common'],\n",
    "                'true_species': None,\n",
    "               }\n",
    "        predictions.append(pred)\n",
    "\n",
    "        #to use in saving prediction result return by get_api_response() to json file\n",
    "        #each result returned by get_api_response is a tuple so unpack accordingly\n",
    "        json_predictions[image['url']] = result[0]\n",
    "\n",
    "        #to use in saving each built image document to a json file as well\n",
    "        image_data_json[image['name']] = pred "
   ]
  },
  {
   "cell_type": "code",
   "execution_count": null,
   "metadata": {},
   "outputs": [],
   "source": [
    "## quick checks - should be the same size\n",
    "print(len(json_predictions))\n",
    "print(len(image_data_json))"
   ]
  },
  {
   "cell_type": "code",
   "execution_count": null,
   "metadata": {},
   "outputs": [],
   "source": [
    "## Writing prediction results from classifier to image_prediction_results.json \n",
    "json_object = json.dumps(json_predictions, indent = 4) \n",
    "with open(\"image_prediction_results.json\", \"w\") as outfile: \n",
    "    outfile.write(json_object) "
   ]
  },
  {
   "cell_type": "code",
   "execution_count": null,
   "metadata": {},
   "outputs": [],
   "source": [
    "## Writing to image dictionaries to image_data.json \n",
    "json_object = json.dumps(image_data_json, indent = 4)  \n",
    "with open(\"image_data.json\", \"w\") as outfile: \n",
    "    outfile.write(json_object) "
   ]
  },
  {
   "cell_type": "markdown",
   "metadata": {},
   "source": [
    "After this point, we work with a subset of 100 our flickr images as we manually filter and analyze our results"
   ]
  },
  {
   "cell_type": "code",
   "execution_count": null,
   "metadata": {},
   "outputs": [],
   "source": [
    "df = pd.DataFrame(predictions[0:100])\n",
    "df #df does not contain ground truths yet"
   ]
  },
  {
   "cell_type": "markdown",
   "metadata": {},
   "source": [
    "# Ground Truths of Species for All Images Collected"
   ]
  },
  {
   "cell_type": "markdown",
   "metadata": {},
   "source": [
    "## Manually Filter Images\n",
    "We manually filter our images and assign their true species from what we (the people) see.\n",
    "Process: \n",
    "- Go through each image, and to make the process faster, print the species_prediction and double check\n",
    "  with a quick web_search\n",
    "- Insert true_species value to dataframe directly"
   ]
  },
  {
   "cell_type": "code",
   "execution_count": null,
   "metadata": {},
   "outputs": [
    {
     "data": {
      "text/html": [
       "<style>div.output_subarea{overflow-x:hidden !important}.container{margin:0 auto}.single_image{width:50%} </style><div class='container'><div class='image_container'><img class='single_image' src='https://live.staticflickr.com/65535/50567923271_926d37d247_b.jpg'/></div></div>"
      ],
      "text/plain": [
       "<IPython.core.display.HTML object>"
      ]
     },
     "metadata": {},
     "output_type": "display_data"
    },
    {
     "name": "stdout",
     "output_type": "stream",
     "text": [
      "Species Predicted In Image:  BELTED KINGFISHER\n",
      "Is the species prediction correct? (y/n): "
     ]
    }
   ],
   "source": [
    "#iterate through each row in df to get ground truths\n",
    "\n",
    "''' Labels to use for the following cases:\n",
    "    'Irrelevant' - no live wildlife species detected\n",
    "    'Human' - human in image\n",
    "    'Not enough info' - hard to tell what kind of species the animal was \n",
    "'''\n",
    "for index, row in df.iterrows():\n",
    "    true_species = cs.get_ground_truth(row['image_url'], row['species_prediction'])\n",
    "    df.iloc[index]['true_species'] = true_species\n",
    "    "
   ]
  },
  {
   "cell_type": "code",
   "execution_count": null,
   "metadata": {},
   "outputs": [],
   "source": [
    "#make sure all classes are all uppercase to compare easily\n",
    "df.species_prediction = df.species_prediction.str.upper()\n",
    "df.true_species = df.true_species.str.upper()\n",
    "\n",
    "df #dataframe after manual filtration (true_species now has values)"
   ]
  },
  {
   "cell_type": "code",
   "execution_count": null,
   "metadata": {},
   "outputs": [],
   "source": [
    "## save dataframe with manual filtration results and species prediction to a csv file\n",
    "compression_opts = dict(method='zip',archive_name='classifier_results.csv')  \n",
    "df.to_csv('classifier_results.zip', index=False, compression=compression_opts)"
   ]
  },
  {
   "cell_type": "markdown",
   "metadata": {},
   "source": [
    "# Analyzing Our Results"
   ]
  },
  {
   "cell_type": "markdown",
   "metadata": {},
   "source": [
    "Here, we'll take a look at how well the species classifier predicted the species in our Flickr Image Data\n",
    "- analyze the different species we detected and their frequencies (correctly identified species) (histogram)\n",
    "- analyze the predicted class and actual classes via a confusion matrix"
   ]
  },
  {
   "cell_type": "markdown",
   "metadata": {},
   "source": [
    "## Load Stored Results Into DataFrame\n",
    "Run the following cell if you just want to see the results of the data after being run through the classifier \n",
    "and being manually filtered for ground truths"
   ]
  },
  {
   "cell_type": "code",
   "execution_count": 16,
   "metadata": {},
   "outputs": [
    {
     "data": {
      "text/html": [
       "<div>\n",
       "<style scoped>\n",
       "    .dataframe tbody tr th:only-of-type {\n",
       "        vertical-align: middle;\n",
       "    }\n",
       "\n",
       "    .dataframe tbody tr th {\n",
       "        vertical-align: top;\n",
       "    }\n",
       "\n",
       "    .dataframe thead th {\n",
       "        text-align: right;\n",
       "    }\n",
       "</style>\n",
       "<table border=\"1\" class=\"dataframe\">\n",
       "  <thead>\n",
       "    <tr style=\"text-align: right;\">\n",
       "      <th></th>\n",
       "      <th>image</th>\n",
       "      <th>image_url</th>\n",
       "      <th>species_prediction</th>\n",
       "      <th>true_species</th>\n",
       "    </tr>\n",
       "  </thead>\n",
       "  <tbody>\n",
       "    <tr>\n",
       "      <th>0</th>\n",
       "      <td>image-1.jpg</td>\n",
       "      <td>https://live.staticflickr.com/65535/5056792327...</td>\n",
       "      <td>BELTED KINGFISHER</td>\n",
       "      <td>BELTED KINGFISHER</td>\n",
       "    </tr>\n",
       "    <tr>\n",
       "      <th>1</th>\n",
       "      <td>image-3.jpg</td>\n",
       "      <td>https://live.staticflickr.com/65535/5056146831...</td>\n",
       "      <td>COLUMBIAN BLACK TAILED DEER</td>\n",
       "      <td>COLUMBIAN BLACK TAILED DEER</td>\n",
       "    </tr>\n",
       "    <tr>\n",
       "      <th>2</th>\n",
       "      <td>image-5.jpg</td>\n",
       "      <td>https://live.staticflickr.com/65535/5054391470...</td>\n",
       "      <td>NORTHERN CARDINAL</td>\n",
       "      <td>NORTHERN CARDINAL</td>\n",
       "    </tr>\n",
       "    <tr>\n",
       "      <th>3</th>\n",
       "      <td>image-6.jpg</td>\n",
       "      <td>https://live.staticflickr.com/65535/5052553194...</td>\n",
       "      <td>BLUE GRAY GNATCATCHER</td>\n",
       "      <td>BLUE GRAY GNATCATCHER</td>\n",
       "    </tr>\n",
       "    <tr>\n",
       "      <th>4</th>\n",
       "      <td>image-17.jpg</td>\n",
       "      <td>https://live.staticflickr.com/65535/5052406962...</td>\n",
       "      <td>WHITE FACED HERON</td>\n",
       "      <td>IRRELEVANT</td>\n",
       "    </tr>\n",
       "    <tr>\n",
       "      <th>...</th>\n",
       "      <td>...</td>\n",
       "      <td>...</td>\n",
       "      <td>...</td>\n",
       "      <td>...</td>\n",
       "    </tr>\n",
       "    <tr>\n",
       "      <th>95</th>\n",
       "      <td>image-135.jpg</td>\n",
       "      <td>https://live.staticflickr.com/1839/44092153191...</td>\n",
       "      <td>HUMAN</td>\n",
       "      <td>HUMAN</td>\n",
       "    </tr>\n",
       "    <tr>\n",
       "      <th>96</th>\n",
       "      <td>image-136.jpg</td>\n",
       "      <td>https://live.staticflickr.com/1835/43185452615...</td>\n",
       "      <td>HUMAN</td>\n",
       "      <td>HUMAN</td>\n",
       "    </tr>\n",
       "    <tr>\n",
       "      <th>97</th>\n",
       "      <td>image-137.jpg</td>\n",
       "      <td>https://live.staticflickr.com/1817/43373079454...</td>\n",
       "      <td>HUMAN</td>\n",
       "      <td>HUMAN</td>\n",
       "    </tr>\n",
       "    <tr>\n",
       "      <th>98</th>\n",
       "      <td>image-138.jpg</td>\n",
       "      <td>https://live.staticflickr.com/935/43058563604_...</td>\n",
       "      <td>EASTERN GRAY SQUIRREL</td>\n",
       "      <td>EASTERN GRAY SQUIRREL</td>\n",
       "    </tr>\n",
       "    <tr>\n",
       "      <th>99</th>\n",
       "      <td>image-139.jpg</td>\n",
       "      <td>https://live.staticflickr.com/1839/43726849032...</td>\n",
       "      <td>EASTERN GRAY SQUIRREL</td>\n",
       "      <td>EASTERN GRAY SQUIRREL</td>\n",
       "    </tr>\n",
       "  </tbody>\n",
       "</table>\n",
       "<p>100 rows × 4 columns</p>\n",
       "</div>"
      ],
      "text/plain": [
       "            image                                          image_url  \\\n",
       "0     image-1.jpg  https://live.staticflickr.com/65535/5056792327...   \n",
       "1     image-3.jpg  https://live.staticflickr.com/65535/5056146831...   \n",
       "2     image-5.jpg  https://live.staticflickr.com/65535/5054391470...   \n",
       "3     image-6.jpg  https://live.staticflickr.com/65535/5052553194...   \n",
       "4    image-17.jpg  https://live.staticflickr.com/65535/5052406962...   \n",
       "..            ...                                                ...   \n",
       "95  image-135.jpg  https://live.staticflickr.com/1839/44092153191...   \n",
       "96  image-136.jpg  https://live.staticflickr.com/1835/43185452615...   \n",
       "97  image-137.jpg  https://live.staticflickr.com/1817/43373079454...   \n",
       "98  image-138.jpg  https://live.staticflickr.com/935/43058563604_...   \n",
       "99  image-139.jpg  https://live.staticflickr.com/1839/43726849032...   \n",
       "\n",
       "             species_prediction                 true_species  \n",
       "0             BELTED KINGFISHER            BELTED KINGFISHER  \n",
       "1   COLUMBIAN BLACK TAILED DEER  COLUMBIAN BLACK TAILED DEER  \n",
       "2             NORTHERN CARDINAL            NORTHERN CARDINAL  \n",
       "3         BLUE GRAY GNATCATCHER        BLUE GRAY GNATCATCHER  \n",
       "4             WHITE FACED HERON                   IRRELEVANT  \n",
       "..                          ...                          ...  \n",
       "95                        HUMAN                        HUMAN  \n",
       "96                        HUMAN                        HUMAN  \n",
       "97                        HUMAN                        HUMAN  \n",
       "98        EASTERN GRAY SQUIRREL        EASTERN GRAY SQUIRREL  \n",
       "99        EASTERN GRAY SQUIRREL        EASTERN GRAY SQUIRREL  \n",
       "\n",
       "[100 rows x 4 columns]"
      ]
     },
     "execution_count": 16,
     "metadata": {},
     "output_type": "execute_result"
    }
   ],
   "source": [
    "# load CSV of our dataframe with predictions and ground truths \n",
    "# into a dataframe so we don't have to filter images again\n",
    "df = pd.read_csv('classifier_results.csv')\n",
    "df"
   ]
  },
  {
   "cell_type": "code",
   "execution_count": 17,
   "metadata": {},
   "outputs": [],
   "source": [
    "## Map each type of species to a value so that we are able to generate \n",
    "## a correct multiclass confusion matrix for our data\n",
    "all_species = df.species_prediction.tolist() + df.true_species.tolist()\n",
    "species_map = {}\n",
    "i = 0\n",
    "for species in all_species:\n",
    "    if species not in species_map.keys():\n",
    "        species_map[species] = i\n",
    "        i+=1\n",
    "    \n",
    "##then convert out species_prediction column to the codes\n",
    "y_pred = [species_map[species] for species in df.species_prediction.tolist()]\n",
    "\n",
    "##finally, convert our true_species column to the codes\n",
    "y_true = [species_map[species] for species in df.true_species.tolist()]"
   ]
  },
  {
   "cell_type": "code",
   "execution_count": 18,
   "metadata": {},
   "outputs": [
    {
     "name": "stdout",
     "output_type": "stream",
     "text": [
      "                         Species/Label  Assigned Numerical Representation\n",
      "0                    BELTED KINGFISHER                                  0\n",
      "1          COLUMBIAN BLACK TAILED DEER                                  1\n",
      "2                    NORTHERN CARDINAL                                  2\n",
      "3                BLUE GRAY GNATCATCHER                                  3\n",
      "4                    WHITE FACED HERON                                  4\n",
      "5                     BLACK COTTONWOOD                                  5\n",
      "6                           BARRED OWL                                  6\n",
      "7                          BLUE DASHER                                  7\n",
      "8                     GREAT BLUE HERON                                  8\n",
      "9                      RED TAILED HAWK                                  9\n",
      "10                   GREEN LYNX SPIDER                                 10\n",
      "11               EASTERN GRAY SQUIRREL                                 11\n",
      "12                  EASTERN COTTONTAIL                                 12\n",
      "13                       MOURNING DOVE                                 13\n",
      "14                       HOUSE SPARROW                                 14\n",
      "15                    EASTERN CHIPMUNK                                 15\n",
      "16                            BLUE JAY                                 16\n",
      "17                  CAROLINA CHICKADEE                                 17\n",
      "18                       LAUGHING DOVE                                 18\n",
      "19                     TUFTED TITMOUSE                                 19\n",
      "20                         HOUSE FINCH                                 20\n",
      "21                  AMERICAN GOLDFINCH                                 21\n",
      "22                      AMERICAN ROBIN                                 22\n",
      "23                    GREAT HORNED OWL                                 23\n",
      "24                               HUMAN                                 24\n",
      "25                    HARLEQUIN FLOWER                                 25\n",
      "26  AUSTRALASIAN COMMON GARDEN KATYDID                                 26\n",
      "27                  SOUTHERN ARROWWOOD                                 27\n",
      "28                       GRAY RATSNAKE                                 28\n",
      "29                             MALLARD                                 29\n",
      "30                         COMMON REED                                 30\n",
      "31                NEW ZEALAND BELLBIRD                                 31\n",
      "32                          BALD EAGLE                                 32\n",
      "33                      AMERICAN BEECH                                 33\n",
      "34               EURASIAN RED SQUIRREL                                 34\n",
      "35                          SCOTS PINE                                 35\n",
      "36                        SLIPPERY ELM                                 36\n",
      "37                        YELLOW BIRCH                                 37\n",
      "38                     AMERICAN BEAVER                                 38\n",
      "39                          IRRELEVANT                                 39\n",
      "40            FORK TAILED BUSH KATYDID                                 40\n",
      "41                     NOT ENOUGH INFO                                 41\n",
      "42                        DOMESTIC CAT                                 42\n"
     ]
    }
   ],
   "source": [
    "# show the map of our species labels to their integer representations\n",
    "table_identifiers = pd.DataFrame({'Species/Label': list(species_map.keys()),\n",
    "                                   'Assigned Numerical Representation': list(species_map.values())})\n",
    "print(table_identifiers)\n",
    "# print(species_map)"
   ]
  },
  {
   "cell_type": "markdown",
   "metadata": {},
   "source": [
    "## Confusion Matrix"
   ]
  },
  {
   "cell_type": "code",
   "execution_count": 19,
   "metadata": {},
   "outputs": [],
   "source": [
    "from sklearn.metrics import confusion_matrix\n",
    "cf = confusion_matrix(y_true[0:30], y_pred[0:30]) #for better visibility, we plot the results of first 30 entries from df"
   ]
  },
  {
   "cell_type": "code",
   "execution_count": 21,
   "metadata": {},
   "outputs": [
    {
     "data": {
      "image/png": "[encoded data removed]",
      "text/plain": [
       "<Figure size 720x720 with 2 Axes>"
      ]
     },
     "metadata": {
      "needs_background": "light"
     },
     "output_type": "display_data"
    }
   ],
   "source": [
    "from sklearn.metrics import ConfusionMatrixDisplay\n",
    "from matplotlib import *\n",
    "import matplotlib.pyplot as plt\n",
    "fig, disp_ax = plt.subplots(figsize=(10, 10))\n",
    "\n",
    "## display confusion matrix without the classifier\n",
    "disp = ConfusionMatrixDisplay(cf, display_labels=table_identifiers['Species/Label'][0:30])\n",
    "disp = disp.plot(xticks_rotation = 'vertical', ax = disp_ax)"
   ]
  },
  {
   "cell_type": "markdown",
   "metadata": {},
   "source": [
    "## Generate a histogram of frequencies of (true) species labels seen"
   ]
  },
  {
   "cell_type": "code",
   "execution_count": 22,
   "metadata": {},
   "outputs": [
    {
     "data": {
      "image/png": "[encoded data removed]",
      "text/plain": [
       "<Figure size 720x720 with 1 Axes>"
      ]
     },
     "metadata": {
      "needs_background": "light"
     },
     "output_type": "display_data"
    }
   ],
   "source": [
    "fig, disp_ax = plt.subplots(figsize=(10, 10))\n",
    "plt.hist(df.true_species.tolist())\n",
    "plt.xticks(rotation = 'vertical')\n",
    "plt.title('Frequency of each ground truth label for {} Flickr Images'.format(len(df)))\n",
    "plt.xlabel('Species Labels')\n",
    "plt.ylabel('Frequency of Each Label');"
   ]
  },
  {
   "cell_type": "markdown",
   "metadata": {},
   "source": [
    "Matplot Troubleshooting\n",
    "- in case the confusion matrix is not displaying, here are a few tips to help you troubleshoot, otherwise ignore this following cell"
   ]
  },
  {
   "cell_type": "code",
   "execution_count": null,
   "metadata": {},
   "outputs": [],
   "source": [
    "# Note: if confusion matrix plot does not show up, reference:\n",
    "# https://stackoverflow.com/questions/7534453/matplotlib-does-not-show-my-drawings-although-i-call-pyplot-show\n",
    "\n",
    "# To get plot to show up, you will have to find the matplotlibrc\n",
    "# file and edit the backend setting\n",
    "\n",
    "# The following code is helpful in locating where matplotlibrc\n",
    "# file is located, but you must find the file yourself and set:\n",
    "# 'backup: GtkAgg' \n",
    "import matplotlib.rcsetup as rcsetup\n",
    "print(rcsetup.all_backends)\n",
    "\n",
    "import matplotlib\n",
    "matplotlib.matplotlib_fname()"
   ]
  }
 ],
 "metadata": {
  "kernelspec": {
   "display_name": "Python 3",
   "language": "python",
   "name": "python3"
  },
  "language_info": {
   "codemirror_mode": {
    "name": "ipython",
    "version": 3
   },
   "file_extension": ".py",
   "mimetype": "text/x-python",
   "name": "python",
   "nbconvert_exporter": "python",
   "pygments_lexer": "ipython3",
   "version": "3.7.3"
  }
 },
 "nbformat": 4,
 "nbformat_minor": 4
}
